{
 "cells": [
  {
   "cell_type": "code",
   "execution_count": 1,
   "metadata": {},
   "outputs": [],
   "source": [
    "import pandas as pd"
   ]
  },
  {
   "cell_type": "code",
   "execution_count": 2,
   "metadata": {},
   "outputs": [],
   "source": [
    "result_csv_path = \"./result/result_v2.csv\"  \n",
    "ground_truth_csv_path = \"./test_dataset/own_dataset_trans_v1.csv\" \n",
    "output_score_csv_path = \"./result/eval_v2.csv\""
   ]
  },
  {
   "cell_type": "code",
   "execution_count": 3,
   "metadata": {},
   "outputs": [],
   "source": [
    "result_data = pd.read_csv(result_csv_path)\n",
    "ground_truth_data = pd.read_csv(ground_truth_csv_path)"
   ]
  },
  {
   "cell_type": "code",
   "execution_count": 4,
   "metadata": {},
   "outputs": [],
   "source": [
    "scoring_results = []\n",
    "\n",
    "for _, row in ground_truth_data.iterrows():\n",
    "    ground_truth_video_id = row[\"video\"]\n",
    "    ground_truth_start = row[\"start\"]\n",
    "    ground_truth_end = row[\"end\"]\n",
    "    index = row[\"index\"]\n",
    "\n",
    "    if str(ground_truth_video_id).startswith(\"-\"):\n",
    "        ground_truth_video_id = str(ground_truth_video_id)[1:]\n",
    "\n",
    "    matching_result = result_data[result_data[\"original_query\"] == row[\"query\"]]\n",
    "\n",
    "    is_correct = 0\n",
    "    is_video_id_match = 0\n",
    "\n",
    "    if not matching_result.empty:\n",
    "        result_video_id = matching_result.iloc[0][\"video_id\"]\n",
    "        result_start = matching_result.iloc[0][\"start\"]\n",
    "        result_end = matching_result.iloc[0][\"end\"]\n",
    "\n",
    "        if result_video_id == ground_truth_video_id:\n",
    "            is_video_id_match = 1 \n",
    "            if (\n",
    "                ground_truth_start <= result_start <= ground_truth_end\n",
    "                and ground_truth_start <= result_end <= ground_truth_end\n",
    "            ):\n",
    "                is_correct = 1  \n",
    "\n",
    "    scoring_results.append({\n",
    "        \"index\": index,\n",
    "        \"is_correct\": is_correct,\n",
    "        \"is_video_id_match\": is_video_id_match\n",
    "    })\n",
    "\n",
    "scoring_results_df = pd.DataFrame(scoring_results)\n",
    "\n",
    "scoring_results_df.to_csv(output_score_csv_path, index=False, encoding=\"utf-8-sig\")"
   ]
  },
  {
   "cell_type": "markdown",
   "metadata": {},
   "source": [
    "---"
   ]
  },
  {
   "cell_type": "code",
   "execution_count": 5,
   "metadata": {},
   "outputs": [
    {
     "name": "stdout",
     "output_type": "stream",
     "text": [
      "=== 전체 결과 ===\n",
      "전체 데이터셋 크기: 175\n",
      "Video ID 맞춘 개수: 93 (53.14%)\n",
      "정답 맞춘 개수: 32 (18.29%)\n",
      "\n",
      "=== Type별 결과 ===\n",
      "\n",
      "Type: 1.0\n",
      "  총 데이터: 44.0\n",
      "  Video ID 맞춘 개수: 31.0 (70.45%)\n",
      "  정답 맞춘 개수: 10.0 (22.73%)\n",
      "\n",
      "Type: 2.0\n",
      "  총 데이터: 44.0\n",
      "  Video ID 맞춘 개수: 22.0 (50.00%)\n",
      "  정답 맞춘 개수: 7.0 (15.91%)\n",
      "\n",
      "Type: 3.0\n",
      "  총 데이터: 43.0\n",
      "  Video ID 맞춘 개수: 13.0 (30.23%)\n",
      "  정답 맞춘 개수: 2.0 (4.65%)\n",
      "\n",
      "Type: 5.0\n",
      "  총 데이터: 44.0\n",
      "  Video ID 맞춘 개수: 27.0 (61.36%)\n",
      "  정답 맞춘 개수: 13.0 (29.55%)\n"
     ]
    }
   ],
   "source": [
    "scoring_results_df = pd.read_csv(output_score_csv_path)\n",
    "\n",
    "ground_truth_data = pd.read_csv(ground_truth_csv_path)\n",
    "\n",
    "scoring_results_df = scoring_results_df.drop_duplicates(subset=[\"index\"])\n",
    "ground_truth_data = ground_truth_data.drop_duplicates(subset=[\"index\"])\n",
    "\n",
    "merged_data = ground_truth_data.merge(scoring_results_df, on=\"index\", how=\"inner\")\n",
    "\n",
    "total_samples = len(merged_data)\n",
    "video_id_match_count = merged_data[\"is_video_id_match\"].sum()\n",
    "correct_count = merged_data[\"is_correct\"].sum()\n",
    "\n",
    "video_id_match_ratio = video_id_match_count / total_samples * 100\n",
    "correct_ratio = correct_count / total_samples * 100\n",
    "\n",
    "print(\"=== 전체 결과 ===\")\n",
    "print(f\"전체 데이터셋 크기: {total_samples}\")\n",
    "print(f\"Video ID 맞춘 개수: {video_id_match_count} ({video_id_match_ratio:.2f}%)\")\n",
    "print(f\"정답 맞춘 개수: {correct_count} ({correct_ratio:.2f}%)\")\n",
    "\n",
    "type_stats = merged_data.groupby(\"type\").agg(\n",
    "    total=(\"type\", \"size\"),\n",
    "    video_id_match_count=(\"is_video_id_match\", \"sum\"),\n",
    "    correct_count=(\"is_correct\", \"sum\")\n",
    ").reset_index()\n",
    "\n",
    "type_stats[\"video_id_match_ratio\"] = (type_stats[\"video_id_match_count\"] / type_stats[\"total\"]) * 100\n",
    "type_stats[\"correct_ratio\"] = (type_stats[\"correct_count\"] / type_stats[\"total\"]) * 100\n",
    "\n",
    "print(\"\\n=== Type별 결과 ===\")\n",
    "for _, row in type_stats.iterrows():\n",
    "    print(f\"\\nType: {row['type']}\")\n",
    "    print(f\"  총 데이터: {row['total']}\")\n",
    "    print(f\"  Video ID 맞춘 개수: {row['video_id_match_count']} ({row['video_id_match_ratio']:.2f}%)\")\n",
    "    print(f\"  정답 맞춘 개수: {row['correct_count']} ({row['correct_ratio']:.2f}%)\")"
   ]
  }
 ],
 "metadata": {
  "kernelspec": {
   "display_name": "base",
   "language": "python",
   "name": "python3"
  },
  "language_info": {
   "codemirror_mode": {
    "name": "ipython",
    "version": 3
   },
   "file_extension": ".py",
   "mimetype": "text/x-python",
   "name": "python",
   "nbconvert_exporter": "python",
   "pygments_lexer": "ipython3",
   "version": "3.10.13"
  }
 },
 "nbformat": 4,
 "nbformat_minor": 2
}
