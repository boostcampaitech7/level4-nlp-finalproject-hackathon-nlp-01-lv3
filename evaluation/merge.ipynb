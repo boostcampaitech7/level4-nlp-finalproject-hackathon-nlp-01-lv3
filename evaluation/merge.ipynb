{
 "cells": [
  {
   "cell_type": "code",
   "execution_count": 8,
   "metadata": {},
   "outputs": [],
   "source": [
    "import json"
   ]
  },
  {
   "cell_type": "code",
   "execution_count": 9,
   "metadata": {},
   "outputs": [],
   "source": [
    "frame_json_path = \"./json/frame_output_v0.json\"\n",
    "clip_json_path = \"./json/clip_output_v1.json\"\n",
    "output_json_path = \"./json/merged_output_v1.json\""
   ]
  },
  {
   "cell_type": "code",
   "execution_count": 10,
   "metadata": {},
   "outputs": [],
   "source": [
    "def timestamp_to_seconds(timestamp):\n",
    "    h, m, s = map(float, timestamp.replace(\",\", \".\").split(\":\"))\n",
    "    return round(h * 3600 + m * 60 + s, 3)"
   ]
  },
  {
   "cell_type": "code",
   "execution_count": 11,
   "metadata": {},
   "outputs": [],
   "source": [
    "with open(frame_json_path, \"r\", encoding=\"utf-8\") as frame_file:\n",
    "    frame_data = json.load(frame_file)\n",
    "\n",
    "with open(clip_json_path, \"r\", encoding=\"utf-8\") as clip_file:\n",
    "    clip_data = json.load(clip_file)[\"video_clips_info\"]"
   ]
  },
  {
   "cell_type": "code",
   "execution_count": 12,
   "metadata": {},
   "outputs": [],
   "source": [
    "merged_data = []\n",
    "\n",
    "for frame in frame_data:\n",
    "    merged_data.append({\n",
    "        \"video_id\": frame[\"video_id\"],\n",
    "        \"scale\": \"frame\",\n",
    "        \"start\": timestamp_to_seconds(frame[\"timestamp\"]),\n",
    "        \"end\": timestamp_to_seconds(frame[\"timestamp\"]),\n",
    "        \"description\": frame[\"caption\"]\n",
    "    })\n",
    "\n",
    "for clip in clip_data:\n",
    "    video_id = clip[\"video_file\"].split(\".\")[0]  \n",
    "    merged_data.append({\n",
    "        \"video_id\": video_id,\n",
    "        \"scale\": \"clip\",\n",
    "        \"start\": clip[\"start_timestamp\"],\n",
    "        \"end\": clip[\"end_timestamp\"],\n",
    "        \"description\": clip[\"clip_description\"]\n",
    "    })"
   ]
  },
  {
   "cell_type": "code",
   "execution_count": 13,
   "metadata": {},
   "outputs": [],
   "source": [
    "with open(output_json_path, \"w\", encoding=\"utf-8\") as output_file:\n",
    "    json.dump(merged_data, output_file, ensure_ascii=False, indent=4)"
   ]
  },
  {
   "cell_type": "markdown",
   "metadata": {},
   "source": [
    "---"
   ]
  },
  {
   "cell_type": "code",
   "execution_count": 14,
   "metadata": {},
   "outputs": [
    {
     "name": "stdout",
     "output_type": "stream",
     "text": [
      "Frame 개수: 7494\n",
      "Clip 개수: 896\n"
     ]
    }
   ],
   "source": [
    "merged_json_path = \"./json/merged_output_v1.json\"\n",
    "\n",
    "with open(merged_json_path, \"r\", encoding=\"utf-8\") as merged_file:\n",
    "    merged_data = json.load(merged_file)\n",
    "\n",
    "frame_count = sum(1 for item in merged_data if item[\"scale\"] == \"frame\")\n",
    "clip_count = sum(1 for item in merged_data if item[\"scale\"] == \"clip\")\n",
    "\n",
    "print(f\"Frame 개수: {frame_count}\")\n",
    "print(f\"Clip 개수: {clip_count}\")"
   ]
  }
 ],
 "metadata": {
  "kernelspec": {
   "display_name": "base",
   "language": "python",
   "name": "python3"
  },
  "language_info": {
   "codemirror_mode": {
    "name": "ipython",
    "version": 3
   },
   "file_extension": ".py",
   "mimetype": "text/x-python",
   "name": "python",
   "nbconvert_exporter": "python",
   "pygments_lexer": "ipython3",
   "version": "3.10.13"
  }
 },
 "nbformat": 4,
 "nbformat_minor": 2
}
