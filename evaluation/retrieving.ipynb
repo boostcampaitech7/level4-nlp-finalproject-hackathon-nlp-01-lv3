{
 "cells": [
  {
   "cell_type": "code",
   "execution_count": 26,
   "metadata": {},
   "outputs": [],
   "source": [
    "import json\n",
    "import faiss\n",
    "import numpy as np\n",
    "import pandas as pd\n",
    "import torch\n",
    "from transformers import AutoTokenizer, AutoModel"
   ]
  },
  {
   "cell_type": "code",
   "execution_count": 27,
   "metadata": {},
   "outputs": [],
   "source": [
    "embedding_json_path = \"./embedding/emb_v1.json\"\n",
    "input_csv_path = \"./test_dataset/own_dataset_trans_v1.csv\"  \n",
    "output_csv_path = \"./result/result_v3.csv\"  \n",
    "model_name = \"BAAI/bge-m3\"\n",
    "\n",
    "query_data = pd.read_csv(input_csv_path)"
   ]
  },
  {
   "cell_type": "code",
   "execution_count": 28,
   "metadata": {},
   "outputs": [],
   "source": [
    "device = torch.device(\"cuda\" if torch.cuda.is_available() else \"cpu\")\n",
    "tokenizer = AutoTokenizer.from_pretrained(model_name)\n",
    "model = AutoModel.from_pretrained(model_name).to(device)"
   ]
  },
  {
   "cell_type": "code",
   "execution_count": 29,
   "metadata": {},
   "outputs": [],
   "source": [
    "with open(embedding_json_path, \"r\", encoding=\"utf-8\") as embedding_file:\n",
    "    embedded_data = json.load(embedding_file)\n",
    "\n",
    "embeddings = np.array([item[\"embedding\"] for item in embedded_data]).astype(\"float32\")\n",
    "metadata = [item for item in embedded_data]"
   ]
  },
  {
   "cell_type": "code",
   "execution_count": 30,
   "metadata": {},
   "outputs": [],
   "source": [
    "index = faiss.IndexFlatL2(embeddings.shape[1])  \n",
    "index.add(embeddings)"
   ]
  },
  {
   "cell_type": "code",
   "execution_count": 31,
   "metadata": {},
   "outputs": [],
   "source": [
    "def get_query_embedding(query, tokenizer, model, device):\n",
    "    inputs = tokenizer(query, return_tensors=\"pt\", padding=True, truncation=True, max_length=512)\n",
    "    inputs = {key: value.to(device) for key, value in inputs.items()}\n",
    "    with torch.no_grad():\n",
    "        outputs = model(**inputs)\n",
    "    embedding = outputs.last_hidden_state[:, 0, :]  \n",
    "    return embedding.squeeze(0).cpu().numpy()"
   ]
  },
  {
   "cell_type": "code",
   "execution_count": 32,
   "metadata": {},
   "outputs": [],
   "source": [
    "def search_similar_faiss(query_embedding, index, metadata, top_k=5):\n",
    "    query_embedding = query_embedding.reshape(1, -1).astype(\"float32\")\n",
    "    distances, indices = index.search(query_embedding, top_k)  # 검색 실행\n",
    "    results = [\n",
    "        {\"item\": metadata[idx], \"distance\": distances[0][i]}\n",
    "        for i, idx in enumerate(indices[0])\n",
    "    ]\n",
    "    return results"
   ]
  },
  {
   "cell_type": "code",
   "execution_count": 35,
   "metadata": {},
   "outputs": [],
   "source": [
    "results = []\n",
    "\n",
    "for _, row in query_data.iterrows():\n",
    "    query = row['query']\n",
    "    query_embedding = get_query_embedding(query, tokenizer, model, device)\n",
    "    top_results = search_similar_faiss(query_embedding, index, metadata, top_k=5)\n",
    "\n",
    "    results.append({\n",
    "        \"original_query\": query,\n",
    "        \"texts\": [result['item'][\"description\"] for result in top_results],\n",
    "        \"video_ids\": [result['item'][\"video_id\"] for result in top_results],\n",
    "        \"starts\": [result['item'][\"start\"] for result in top_results],\n",
    "        \"ends\": [result['item'][\"end\"] for result in top_results],\n",
    "    })\n",
    "\n",
    "results_df = pd.DataFrame(results)\n",
    "\n",
    "results_df.to_csv(output_csv_path, index=False, encoding=\"utf-8-sig\")"
   ]
  }
 ],
 "metadata": {
  "kernelspec": {
   "display_name": "base",
   "language": "python",
   "name": "python3"
  },
  "language_info": {
   "codemirror_mode": {
    "name": "ipython",
    "version": 3
   },
   "file_extension": ".py",
   "mimetype": "text/x-python",
   "name": "python",
   "nbconvert_exporter": "python",
   "pygments_lexer": "ipython3",
   "version": "3.10.13"
  }
 },
 "nbformat": 4,
 "nbformat_minor": 2
}
