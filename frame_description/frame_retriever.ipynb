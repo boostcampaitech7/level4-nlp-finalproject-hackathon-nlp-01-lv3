{
 "cells": [
  {
   "cell_type": "code",
   "execution_count": 16,
   "metadata": {},
   "outputs": [
    {
     "name": "stdout",
     "output_type": "stream",
     "text": [
      "Query: 두 명의 스쿠버다이버가 있는 장면.\n",
      "Video ID: -ncFDuKdgNE, Timestamp: 0:01:12.0\n",
      "Caption_ko: 이미지에는 두 명의 스쿠버 다이버가 있는 수중 장면이 묘사되어 있습니다. 물은 탁하고 거품이 표면으로 올라와 움직임을 나타냅니다. 왼쪽의 다이버는 빨간색 다이빙 마스크를 착용하고 있으며 카메라나 조명과 같은 장비를 들고 있는 것처럼 보입니다. 오른쪽 다이버는 노란색 다이빙 마스크를 착용하고 장비도 들고 있습니다. 물의 투명도와 거품의 존재로 인해 전체적인 분위기가 다소 흐릿합니다. 이미지의 왼쪽 하단에 \"MOVIECLIPS.COM\"이라는 워터마크가 있습니다.\n"
     ]
    }
   ],
   "source": [
    "import json\n",
    "import faiss\n",
    "import numpy as np\n",
    "from sentence_transformers import SentenceTransformer\n",
    "from googletrans import Translator\n",
    "translator = Translator()\n",
    "\n",
    "# 1. 데이터 로드\n",
    "with open('own_dataset_video_test/output/frame_output_v.json', 'r') as file:\n",
    "    frame_data = json.load(file)\n",
    "\n",
    "# 2. 텍스트 임베딩 모델 로드\n",
    "model = SentenceTransformer('all-MiniLM-L6-v2')\n",
    "\n",
    "# 3. 프레임 캡션 임베딩 생성\n",
    "captions = [frame[\"caption\"] for frame in frame_data]\n",
    "caption_embeddings = model.encode(captions, convert_to_tensor=False)\n",
    "\n",
    "# 4. FAISS 인덱스 생성\n",
    "embedding_dim = caption_embeddings.shape[1]\n",
    "index = faiss.IndexFlatL2(embedding_dim)\n",
    "index.add(np.array(caption_embeddings))\n",
    "\n",
    "# 5. 질문 처리 및 검색\n",
    "def search(query, top_k=1):\n",
    "    # 질문 임베딩 생성\n",
    "    query_embedding = model.encode([query], convert_to_tensor=False)\n",
    "    # 유사도 검색\n",
    "    distances, indices = index.search(np.array(query_embedding), top_k)\n",
    "    \n",
    "    # 검색 결과 반환\n",
    "    results = []\n",
    "    for idx in indices[0]:\n",
    "        results.append({\n",
    "            \"video_id\": frame_data[idx][\"video_id\"],\n",
    "            \"timestamp\": frame_data[idx][\"timestamp\"],\n",
    "            \"caption_ko\": frame_data[idx][\"caption_ko\"]\n",
    "        })\n",
    "    return results\n",
    "\n",
    "# 6. 테스트 실행\n",
    "query = \"바위 위에 두 사람이 앉아 있는 장면.\"\n",
    "query_en = translator.translate(query, dest='en').text\n",
    "results = search(query_en, top_k=1)\n",
    "\n",
    "# 결과 출력\n",
    "for result in results:\n",
    "    print(f\"Query: {query}\")\n",
    "    print(f\"Video ID: {result['video_id']}, Timestamp: {result['timestamp']}\")\n",
    "    print(f\"Caption_ko: {result['caption_ko']}\")"
   ]
  }
 ],
 "metadata": {
  "kernelspec": {
   "display_name": "base",
   "language": "python",
   "name": "python3"
  },
  "language_info": {
   "codemirror_mode": {
    "name": "ipython",
    "version": 3
   },
   "file_extension": ".py",
   "mimetype": "text/x-python",
   "name": "python",
   "nbconvert_exporter": "python",
   "pygments_lexer": "ipython3",
   "version": "3.10.13"
  }
 },
 "nbformat": 4,
 "nbformat_minor": 2
}
