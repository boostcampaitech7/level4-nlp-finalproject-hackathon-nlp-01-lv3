{
 "cells": [
  {
   "cell_type": "code",
   "execution_count": 8,
   "metadata": {},
   "outputs": [],
   "source": [
    "import os\n",
    "import cv2\n",
    "from tqdm import tqdm"
   ]
  },
  {
   "cell_type": "markdown",
   "metadata": {},
   "source": [
    "### 비디오 가져오기"
   ]
  },
  {
   "cell_type": "code",
   "execution_count": 11,
   "metadata": {},
   "outputs": [
    {
     "name": "stdout",
     "output_type": "stream",
     "text": [
      "총 3개의 비디오 파일을 발견했습니다.\n"
     ]
    }
   ],
   "source": [
    "video_folder = './Dataset_test'\n",
    "video_files = [f for f in os.listdir(video_folder) if f.endswith('.mp4')]\n",
    "\n",
    "print(f\"총 {len(video_files)}개의 비디오 파일을 발견했습니다.\")"
   ]
  },
  {
   "cell_type": "code",
   "execution_count": 12,
   "metadata": {},
   "outputs": [
    {
     "data": {
      "text/plain": [
       "['insideout_clip.mp4']"
      ]
     },
     "execution_count": 12,
     "metadata": {},
     "output_type": "execute_result"
    }
   ],
   "source": [
    "video_files = video_files[:1]\n",
    "video_files"
   ]
  },
  {
   "cell_type": "markdown",
   "metadata": {},
   "source": [
    "### 비디오 추출"
   ]
  },
  {
   "cell_type": "code",
   "execution_count": 13,
   "metadata": {},
   "outputs": [],
   "source": [
    "def extract_frames(video_path, output_dir, frame_rate=1):\n",
    "    \"\"\"\n",
    "    비디오 파일에서 프레임을 추출하여 저장합니다.\n",
    "\n",
    "    Args:\n",
    "        video_path (str): 비디오 파일 경로\n",
    "        output_dir (str): 프레임 이미지 저장 디렉토리\n",
    "        frame_rate (int): 초당 추출할 프레임 수\n",
    "    \"\"\"\n",
    "    cap = cv2.VideoCapture(video_path)\n",
    "    if not cap.isOpened():\n",
    "        print(f\"비디오 파일을 열 수 없습니다: {video_path}\")\n",
    "        return\n",
    "\n",
    "    fps = round(cap.get(cv2.CAP_PROP_FPS))\n",
    "    interval = int(fps / frame_rate) if fps > 0 else 1\n",
    "    frame_count = 0\n",
    "    saved_count = 0\n",
    "\n",
    "    video_id = os.path.splitext(os.path.basename(video_path))[0]\n",
    "\n",
    "    while True:\n",
    "        ret, frame = cap.read()\n",
    "        if not ret:\n",
    "            break\n",
    "\n",
    "        if frame_count % interval == 0:\n",
    "            timestamp = frame_count / fps if fps > 0 else frame_count\n",
    "            frame_filename = f\"{video_id}_{int(timestamp)}.jpg\"\n",
    "            if not os.path.exists(output_dir):\n",
    "                os.makedirs(output_dir)\n",
    "            frame_path = os.path.join(output_dir, frame_filename)\n",
    "            cv2.imwrite(frame_path, frame)\n",
    "            saved_count += 1\n",
    "\n",
    "        frame_count += 1\n",
    "\n",
    "    cap.release()\n",
    "    print(f\"{video_id}: 추출된 프레임 수 = {saved_count}\")"
   ]
  },
  {
   "cell_type": "code",
   "execution_count": 14,
   "metadata": {},
   "outputs": [
    {
     "name": "stderr",
     "output_type": "stream",
     "text": [
      "비디오 프레임 추출 중: 100%|██████████| 1/1 [00:00<00:00,  1.39it/s]"
     ]
    },
    {
     "name": "stdout",
     "output_type": "stream",
     "text": [
      "insideout_clip: 추출된 프레임 수 = 21\n"
     ]
    },
    {
     "name": "stderr",
     "output_type": "stream",
     "text": [
      "\n"
     ]
    }
   ],
   "source": [
    "for video_file in tqdm(video_files, desc=\"비디오 프레임 추출 중\"):\n",
    "    video_path = os.path.join(video_folder, video_file)\n",
    "    extract_frames(video_path, 'frames', frame_rate=1)  # 초당 1프레임 추출"
   ]
  }
 ],
 "metadata": {
  "kernelspec": {
   "display_name": "base",
   "language": "python",
   "name": "python3"
  },
  "language_info": {
   "codemirror_mode": {
    "name": "ipython",
    "version": 3
   },
   "file_extension": ".py",
   "mimetype": "text/x-python",
   "name": "python",
   "nbconvert_exporter": "python",
   "pygments_lexer": "ipython3",
   "version": "3.10.13"
  }
 },
 "nbformat": 4,
 "nbformat_minor": 2
}
