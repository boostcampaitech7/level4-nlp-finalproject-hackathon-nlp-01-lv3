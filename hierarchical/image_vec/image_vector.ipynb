{
 "cells": [
  {
   "cell_type": "code",
   "execution_count": 1,
   "metadata": {},
   "outputs": [
    {
     "name": "stderr",
     "output_type": "stream",
     "text": [
      "/opt/conda/lib/python3.10/site-packages/tqdm/auto.py:21: TqdmWarning: IProgress not found. Please update jupyter and ipywidgets. See https://ipywidgets.readthedocs.io/en/stable/user_install.html\n",
      "  from .autonotebook import tqdm as notebook_tqdm\n"
     ]
    }
   ],
   "source": [
    "import torch\n",
    "import clip\n",
    "from PIL import Image\n",
    "import os"
   ]
  },
  {
   "cell_type": "code",
   "execution_count": 2,
   "metadata": {},
   "outputs": [],
   "source": [
    "device = \"cuda\" if torch.cuda.is_available() else \"cpu\"\n",
    "model, preprocess = clip.load(\"ViT-B/32\", device=device)\n",
    "\n",
    "frame_folder = \"./frames\"  \n",
    "output_file = \"frame_vectors.pt\"  \n",
    "\n",
    "image_filenames = [\n",
    "    os.path.join(frame_folder, fname)\n",
    "    for fname in sorted(os.listdir(frame_folder))  \n",
    "    if fname.endswith((\".jpg\", \".png\", \".jpeg\"))\n",
    "]"
   ]
  },
  {
   "cell_type": "code",
   "execution_count": 3,
   "metadata": {},
   "outputs": [],
   "source": [
    "image_features = []\n",
    "\n",
    "for image_path in image_filenames:\n",
    "    try:\n",
    "        image = preprocess(Image.open(image_path).convert(\"RGB\")).unsqueeze(0).to(device)\n",
    "        with torch.no_grad():\n",
    "            feature = model.encode_image(image)\n",
    "            feature /= feature.norm(dim=-1, keepdim=True) \n",
    "            image_features.append(feature.cpu())\n",
    "    except Exception as e:\n",
    "        print(f\"이미지 처리 오류: {image_path}, 오류: {e}\")\n",
    "\n",
    "image_features = torch.cat(image_features, dim=0)\n",
    "\n",
    "torch.save({\"filenames\": image_filenames, \"features\": image_features}, output_file)"
   ]
  }
 ],
 "metadata": {
  "kernelspec": {
   "display_name": "base",
   "language": "python",
   "name": "python3"
  },
  "language_info": {
   "codemirror_mode": {
    "name": "ipython",
    "version": 3
   },
   "file_extension": ".py",
   "mimetype": "text/x-python",
   "name": "python",
   "nbconvert_exporter": "python",
   "pygments_lexer": "ipython3",
   "version": "3.10.13"
  }
 },
 "nbformat": 4,
 "nbformat_minor": 2
}
